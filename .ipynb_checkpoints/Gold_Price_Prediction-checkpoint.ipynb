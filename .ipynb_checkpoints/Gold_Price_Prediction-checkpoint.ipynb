{
 "cells": [
  {
   "cell_type": "markdown",
   "id": "6b2c7861",
   "metadata": {},
   "source": [
    "## Gold Price Prediction"
   ]
  },
  {
   "cell_type": "markdown",
   "id": "87a0b5cc",
   "metadata": {},
   "source": [
    "#### Importing the libraries"
   ]
  },
  {
   "cell_type": "code",
   "execution_count": 2,
   "id": "cfb614fa",
   "metadata": {},
   "outputs": [],
   "source": [
    "import numpy as np\n",
    "import pandas as pd\n",
    "import matplotlib.pyplot as plt\n",
    "import seaborn as sns\n",
    "from sklearn.model_selection import train_test_split\n",
    "from sklearn.ensemble import RandomForestRegressor\n",
    "from sklearn import metrics"
   ]
  },
  {
   "cell_type": "markdown",
   "id": "38360b2a",
   "metadata": {},
   "source": [
    "#### Data Collection and Processing"
   ]
  },
  {
   "cell_type": "code",
   "execution_count": 3,
   "id": "c99db855",
   "metadata": {},
   "outputs": [],
   "source": [
    "# Loading the csv data to pandas DataFrame\n",
    "\n",
    "gold_data = pd.read_csv(\"gold_price_data.csv\")"
   ]
  },
  {
   "cell_type": "code",
   "execution_count": 4,
   "id": "2ec22cc3",
   "metadata": {},
   "outputs": [
    {
     "data": {
      "text/html": [
       "<div>\n",
       "<style scoped>\n",
       "    .dataframe tbody tr th:only-of-type {\n",
       "        vertical-align: middle;\n",
       "    }\n",
       "\n",
       "    .dataframe tbody tr th {\n",
       "        vertical-align: top;\n",
       "    }\n",
       "\n",
       "    .dataframe thead th {\n",
       "        text-align: right;\n",
       "    }\n",
       "</style>\n",
       "<table border=\"1\" class=\"dataframe\">\n",
       "  <thead>\n",
       "    <tr style=\"text-align: right;\">\n",
       "      <th></th>\n",
       "      <th>Date</th>\n",
       "      <th>SPX</th>\n",
       "      <th>GLD</th>\n",
       "      <th>USO</th>\n",
       "      <th>SLV</th>\n",
       "      <th>EUR/USD</th>\n",
       "    </tr>\n",
       "  </thead>\n",
       "  <tbody>\n",
       "    <tr>\n",
       "      <th>0</th>\n",
       "      <td>1/2/2008</td>\n",
       "      <td>1447.160034</td>\n",
       "      <td>84.860001</td>\n",
       "      <td>78.470001</td>\n",
       "      <td>15.180</td>\n",
       "      <td>1.471692</td>\n",
       "    </tr>\n",
       "    <tr>\n",
       "      <th>1</th>\n",
       "      <td>1/3/2008</td>\n",
       "      <td>1447.160034</td>\n",
       "      <td>85.570000</td>\n",
       "      <td>78.370003</td>\n",
       "      <td>15.285</td>\n",
       "      <td>1.474491</td>\n",
       "    </tr>\n",
       "    <tr>\n",
       "      <th>2</th>\n",
       "      <td>1/4/2008</td>\n",
       "      <td>1411.630005</td>\n",
       "      <td>85.129997</td>\n",
       "      <td>77.309998</td>\n",
       "      <td>15.167</td>\n",
       "      <td>1.475492</td>\n",
       "    </tr>\n",
       "    <tr>\n",
       "      <th>3</th>\n",
       "      <td>1/7/2008</td>\n",
       "      <td>1416.180054</td>\n",
       "      <td>84.769997</td>\n",
       "      <td>75.500000</td>\n",
       "      <td>15.053</td>\n",
       "      <td>1.468299</td>\n",
       "    </tr>\n",
       "    <tr>\n",
       "      <th>4</th>\n",
       "      <td>1/8/2008</td>\n",
       "      <td>1390.189941</td>\n",
       "      <td>86.779999</td>\n",
       "      <td>76.059998</td>\n",
       "      <td>15.590</td>\n",
       "      <td>1.557099</td>\n",
       "    </tr>\n",
       "  </tbody>\n",
       "</table>\n",
       "</div>"
      ],
      "text/plain": [
       "       Date          SPX        GLD        USO     SLV   EUR/USD\n",
       "0  1/2/2008  1447.160034  84.860001  78.470001  15.180  1.471692\n",
       "1  1/3/2008  1447.160034  85.570000  78.370003  15.285  1.474491\n",
       "2  1/4/2008  1411.630005  85.129997  77.309998  15.167  1.475492\n",
       "3  1/7/2008  1416.180054  84.769997  75.500000  15.053  1.468299\n",
       "4  1/8/2008  1390.189941  86.779999  76.059998  15.590  1.557099"
      ]
     },
     "execution_count": 4,
     "metadata": {},
     "output_type": "execute_result"
    }
   ],
   "source": [
    "#print the first 5 rows in the dataframe\n",
    "\n",
    "gold_data.head()"
   ]
  },
  {
   "cell_type": "code",
   "execution_count": 5,
   "id": "e7d50836",
   "metadata": {},
   "outputs": [
    {
     "data": {
      "text/html": [
       "<div>\n",
       "<style scoped>\n",
       "    .dataframe tbody tr th:only-of-type {\n",
       "        vertical-align: middle;\n",
       "    }\n",
       "\n",
       "    .dataframe tbody tr th {\n",
       "        vertical-align: top;\n",
       "    }\n",
       "\n",
       "    .dataframe thead th {\n",
       "        text-align: right;\n",
       "    }\n",
       "</style>\n",
       "<table border=\"1\" class=\"dataframe\">\n",
       "  <thead>\n",
       "    <tr style=\"text-align: right;\">\n",
       "      <th></th>\n",
       "      <th>Date</th>\n",
       "      <th>SPX</th>\n",
       "      <th>GLD</th>\n",
       "      <th>USO</th>\n",
       "      <th>SLV</th>\n",
       "      <th>EUR/USD</th>\n",
       "    </tr>\n",
       "  </thead>\n",
       "  <tbody>\n",
       "    <tr>\n",
       "      <th>2285</th>\n",
       "      <td>5/8/2018</td>\n",
       "      <td>2671.919922</td>\n",
       "      <td>124.589996</td>\n",
       "      <td>14.0600</td>\n",
       "      <td>15.5100</td>\n",
       "      <td>1.186789</td>\n",
       "    </tr>\n",
       "    <tr>\n",
       "      <th>2286</th>\n",
       "      <td>5/9/2018</td>\n",
       "      <td>2697.790039</td>\n",
       "      <td>124.330002</td>\n",
       "      <td>14.3700</td>\n",
       "      <td>15.5300</td>\n",
       "      <td>1.184722</td>\n",
       "    </tr>\n",
       "    <tr>\n",
       "      <th>2287</th>\n",
       "      <td>5/10/2018</td>\n",
       "      <td>2723.070068</td>\n",
       "      <td>125.180000</td>\n",
       "      <td>14.4100</td>\n",
       "      <td>15.7400</td>\n",
       "      <td>1.191753</td>\n",
       "    </tr>\n",
       "    <tr>\n",
       "      <th>2288</th>\n",
       "      <td>5/14/2018</td>\n",
       "      <td>2730.129883</td>\n",
       "      <td>124.489998</td>\n",
       "      <td>14.3800</td>\n",
       "      <td>15.5600</td>\n",
       "      <td>1.193118</td>\n",
       "    </tr>\n",
       "    <tr>\n",
       "      <th>2289</th>\n",
       "      <td>5/16/2018</td>\n",
       "      <td>2725.780029</td>\n",
       "      <td>122.543800</td>\n",
       "      <td>14.4058</td>\n",
       "      <td>15.4542</td>\n",
       "      <td>1.182033</td>\n",
       "    </tr>\n",
       "  </tbody>\n",
       "</table>\n",
       "</div>"
      ],
      "text/plain": [
       "           Date          SPX         GLD      USO      SLV   EUR/USD\n",
       "2285   5/8/2018  2671.919922  124.589996  14.0600  15.5100  1.186789\n",
       "2286   5/9/2018  2697.790039  124.330002  14.3700  15.5300  1.184722\n",
       "2287  5/10/2018  2723.070068  125.180000  14.4100  15.7400  1.191753\n",
       "2288  5/14/2018  2730.129883  124.489998  14.3800  15.5600  1.193118\n",
       "2289  5/16/2018  2725.780029  122.543800  14.4058  15.4542  1.182033"
      ]
     },
     "execution_count": 5,
     "metadata": {},
     "output_type": "execute_result"
    }
   ],
   "source": [
    "# printing the last 5 rows of the DataFrame\n",
    "gold_data.tail()"
   ]
  },
  {
   "cell_type": "code",
   "execution_count": 6,
   "id": "e17cadda",
   "metadata": {},
   "outputs": [
    {
     "data": {
      "text/plain": [
       "(2290, 6)"
      ]
     },
     "execution_count": 6,
     "metadata": {},
     "output_type": "execute_result"
    }
   ],
   "source": [
    "# number of rows and column\n",
    "\n",
    "gold_data.shape"
   ]
  },
  {
   "cell_type": "code",
   "execution_count": 7,
   "id": "98d97c93",
   "metadata": {},
   "outputs": [
    {
     "name": "stdout",
     "output_type": "stream",
     "text": [
      "<class 'pandas.core.frame.DataFrame'>\n",
      "RangeIndex: 2290 entries, 0 to 2289\n",
      "Data columns (total 6 columns):\n",
      " #   Column   Non-Null Count  Dtype  \n",
      "---  ------   --------------  -----  \n",
      " 0   Date     2290 non-null   object \n",
      " 1   SPX      2290 non-null   float64\n",
      " 2   GLD      2290 non-null   float64\n",
      " 3   USO      2290 non-null   float64\n",
      " 4   SLV      2290 non-null   float64\n",
      " 5   EUR/USD  2290 non-null   float64\n",
      "dtypes: float64(5), object(1)\n",
      "memory usage: 107.5+ KB\n"
     ]
    }
   ],
   "source": [
    "# Getting some basic information about the data\n",
    "\n",
    "gold_data.info()"
   ]
  },
  {
   "cell_type": "code",
   "execution_count": 8,
   "id": "05bbb733",
   "metadata": {},
   "outputs": [
    {
     "data": {
      "text/plain": [
       "Date       0\n",
       "SPX        0\n",
       "GLD        0\n",
       "USO        0\n",
       "SLV        0\n",
       "EUR/USD    0\n",
       "dtype: int64"
      ]
     },
     "execution_count": 8,
     "metadata": {},
     "output_type": "execute_result"
    }
   ],
   "source": [
    "# checking the number of missing values\n",
    "\n",
    "gold_data.isnull().sum()"
   ]
  },
  {
   "cell_type": "code",
   "execution_count": 9,
   "id": "edb5cd82",
   "metadata": {},
   "outputs": [
    {
     "data": {
      "text/html": [
       "<div>\n",
       "<style scoped>\n",
       "    .dataframe tbody tr th:only-of-type {\n",
       "        vertical-align: middle;\n",
       "    }\n",
       "\n",
       "    .dataframe tbody tr th {\n",
       "        vertical-align: top;\n",
       "    }\n",
       "\n",
       "    .dataframe thead th {\n",
       "        text-align: right;\n",
       "    }\n",
       "</style>\n",
       "<table border=\"1\" class=\"dataframe\">\n",
       "  <thead>\n",
       "    <tr style=\"text-align: right;\">\n",
       "      <th></th>\n",
       "      <th>SPX</th>\n",
       "      <th>GLD</th>\n",
       "      <th>USO</th>\n",
       "      <th>SLV</th>\n",
       "      <th>EUR/USD</th>\n",
       "    </tr>\n",
       "  </thead>\n",
       "  <tbody>\n",
       "    <tr>\n",
       "      <th>count</th>\n",
       "      <td>2290.000000</td>\n",
       "      <td>2290.000000</td>\n",
       "      <td>2290.000000</td>\n",
       "      <td>2290.000000</td>\n",
       "      <td>2290.000000</td>\n",
       "    </tr>\n",
       "    <tr>\n",
       "      <th>mean</th>\n",
       "      <td>1654.315776</td>\n",
       "      <td>122.732875</td>\n",
       "      <td>31.842221</td>\n",
       "      <td>20.084997</td>\n",
       "      <td>1.283653</td>\n",
       "    </tr>\n",
       "    <tr>\n",
       "      <th>std</th>\n",
       "      <td>519.111540</td>\n",
       "      <td>23.283346</td>\n",
       "      <td>19.523517</td>\n",
       "      <td>7.092566</td>\n",
       "      <td>0.131547</td>\n",
       "    </tr>\n",
       "    <tr>\n",
       "      <th>min</th>\n",
       "      <td>676.530029</td>\n",
       "      <td>70.000000</td>\n",
       "      <td>7.960000</td>\n",
       "      <td>8.850000</td>\n",
       "      <td>1.039047</td>\n",
       "    </tr>\n",
       "    <tr>\n",
       "      <th>25%</th>\n",
       "      <td>1239.874969</td>\n",
       "      <td>109.725000</td>\n",
       "      <td>14.380000</td>\n",
       "      <td>15.570000</td>\n",
       "      <td>1.171313</td>\n",
       "    </tr>\n",
       "    <tr>\n",
       "      <th>50%</th>\n",
       "      <td>1551.434998</td>\n",
       "      <td>120.580002</td>\n",
       "      <td>33.869999</td>\n",
       "      <td>17.268500</td>\n",
       "      <td>1.303297</td>\n",
       "    </tr>\n",
       "    <tr>\n",
       "      <th>75%</th>\n",
       "      <td>2073.010070</td>\n",
       "      <td>132.840004</td>\n",
       "      <td>37.827501</td>\n",
       "      <td>22.882500</td>\n",
       "      <td>1.369971</td>\n",
       "    </tr>\n",
       "    <tr>\n",
       "      <th>max</th>\n",
       "      <td>2872.870117</td>\n",
       "      <td>184.589996</td>\n",
       "      <td>117.480003</td>\n",
       "      <td>47.259998</td>\n",
       "      <td>1.598798</td>\n",
       "    </tr>\n",
       "  </tbody>\n",
       "</table>\n",
       "</div>"
      ],
      "text/plain": [
       "               SPX          GLD          USO          SLV      EUR/USD\n",
       "count  2290.000000  2290.000000  2290.000000  2290.000000  2290.000000\n",
       "mean   1654.315776   122.732875    31.842221    20.084997     1.283653\n",
       "std     519.111540    23.283346    19.523517     7.092566     0.131547\n",
       "min     676.530029    70.000000     7.960000     8.850000     1.039047\n",
       "25%    1239.874969   109.725000    14.380000    15.570000     1.171313\n",
       "50%    1551.434998   120.580002    33.869999    17.268500     1.303297\n",
       "75%    2073.010070   132.840004    37.827501    22.882500     1.369971\n",
       "max    2872.870117   184.589996   117.480003    47.259998     1.598798"
      ]
     },
     "execution_count": 9,
     "metadata": {},
     "output_type": "execute_result"
    }
   ],
   "source": [
    "# Getting the Statistical measures of the data\n",
    "\n",
    "gold_data.describe()"
   ]
  },
  {
   "cell_type": "markdown",
   "id": "d8542aa4",
   "metadata": {},
   "source": [
    "### Finding the correlation\n",
    "\n",
    "1. Positive Correlation\n",
    "\n",
    "2. Negative Correlation"
   ]
  },
  {
   "cell_type": "code",
   "execution_count": 16,
   "id": "ecbcb9a7",
   "metadata": {},
   "outputs": [],
   "source": [
    "correlation = gold_data.corr()"
   ]
  },
  {
   "cell_type": "code",
   "execution_count": 20,
   "id": "bfffc8b7",
   "metadata": {},
   "outputs": [
    {
     "data": {
      "text/plain": [
       "<AxesSubplot:>"
      ]
     },
     "execution_count": 20,
     "metadata": {},
     "output_type": "execute_result"
    },
    {
     "data": {
      "image/png": "[encoded data removed]",
      "text/plain": [
       "<Figure size 576x576 with 2 Axes>"
      ]
     },
     "metadata": {
      "needs_background": "light"
     },
     "output_type": "display_data"
    }
   ],
   "source": [
    "# constructing a heatmap to understand the correlatiom\n",
    "plt.figure(figsize = (8,8))\n",
    "sns.heatmap(correlation, cbar=True, square=True, fmt='.1f',annot=True, annot_kws={'size':8}, cmap='Blues')"
   ]
  },
  {
   "cell_type": "code",
   "execution_count": 21,
   "id": "8a364b3e",
   "metadata": {},
   "outputs": [
    {
     "name": "stdout",
     "output_type": "stream",
     "text": [
      "SPX        0.049345\n",
      "GLD        1.000000\n",
      "USO       -0.186360\n",
      "SLV        0.866632\n",
      "EUR/USD   -0.024375\n",
      "Name: GLD, dtype: float64\n"
     ]
    }
   ],
   "source": [
    "# Correlation values of GLD\n",
    "print(correlation[\"GLD\"])"
   ]
  },
  {
   "cell_type": "code",
   "execution_count": 25,
   "id": "70d51914",
   "metadata": {},
   "outputs": [
    {
     "name": "stderr",
     "output_type": "stream",
     "text": [
      "C:\\Users\\ANURAG\\anaconda3\\lib\\site-packages\\seaborn\\distributions.py:2619: FutureWarning: `distplot` is a deprecated function and will be removed in a future version. Please adapt your code to use either `displot` (a figure-level function with similar flexibility) or `histplot` (an axes-level function for histograms).\n",
      "  warnings.warn(msg, FutureWarning)\n"
     ]
    },
    {
     "data": {
      "text/plain": [
       "<AxesSubplot:xlabel='GLD', ylabel='Density'>"
      ]
     },
     "execution_count": 25,
     "metadata": {},
     "output_type": "execute_result"
    },
    {
     "data": {
      "image/png": "[encoded data removed]",
      "text/plain": [
       "<Figure size 432x288 with 1 Axes>"
      ]
     },
     "metadata": {
      "needs_background": "light"
     },
     "output_type": "display_data"
    }
   ],
   "source": [
    "# Checking the distribution of the gold price\n",
    "\n",
    "sns.distplot(gold_data[\"GLD\"], color =\"green\")"
   ]
  },
  {
   "cell_type": "markdown",
   "id": "dfbae6d7",
   "metadata": {},
   "source": [
    " #### Splitting the Target and Feature\n",
    " "
   ]
  },
  {
   "cell_type": "code",
   "execution_count": 26,
   "id": "7a563d61",
   "metadata": {},
   "outputs": [],
   "source": [
    "X= gold_data.drop([\"Date\",\"GLD\"],axis=1)\n",
    "\n",
    "y= gold_data[\"GLD\"]"
   ]
  },
  {
   "cell_type": "code",
   "execution_count": 27,
   "id": "aaa3f9bc",
   "metadata": {},
   "outputs": [
    {
     "name": "stdout",
     "output_type": "stream",
     "text": [
      "              SPX        USO      SLV   EUR/USD\n",
      "0     1447.160034  78.470001  15.1800  1.471692\n",
      "1     1447.160034  78.370003  15.2850  1.474491\n",
      "2     1411.630005  77.309998  15.1670  1.475492\n",
      "3     1416.180054  75.500000  15.0530  1.468299\n",
      "4     1390.189941  76.059998  15.5900  1.557099\n",
      "...           ...        ...      ...       ...\n",
      "2285  2671.919922  14.060000  15.5100  1.186789\n",
      "2286  2697.790039  14.370000  15.5300  1.184722\n",
      "2287  2723.070068  14.410000  15.7400  1.191753\n",
      "2288  2730.129883  14.380000  15.5600  1.193118\n",
      "2289  2725.780029  14.405800  15.4542  1.182033\n",
      "\n",
      "[2290 rows x 4 columns]\n"
     ]
    }
   ],
   "source": [
    "print(X)"
   ]
  },
  {
   "cell_type": "code",
   "execution_count": 28,
   "id": "280cb1bf",
   "metadata": {},
   "outputs": [
    {
     "name": "stdout",
     "output_type": "stream",
     "text": [
      "0        84.860001\n",
      "1        85.570000\n",
      "2        85.129997\n",
      "3        84.769997\n",
      "4        86.779999\n",
      "           ...    \n",
      "2285    124.589996\n",
      "2286    124.330002\n",
      "2287    125.180000\n",
      "2288    124.489998\n",
      "2289    122.543800\n",
      "Name: GLD, Length: 2290, dtype: float64\n"
     ]
    }
   ],
   "source": [
    "print(y)"
   ]
  },
  {
   "cell_type": "markdown",
   "id": "76d1089b",
   "metadata": {},
   "source": [
    "#### Seperating into Training data and Test Data"
   ]
  },
  {
   "cell_type": "code",
   "execution_count": 29,
   "id": "26b175e2",
   "metadata": {},
   "outputs": [],
   "source": [
    "X_train, X_test, y_train, y_test = train_test_split(X,y,test_size=0.2, random_state=2)"
   ]
  },
  {
   "cell_type": "markdown",
   "id": "b2056a60",
   "metadata": {},
   "source": [
    "#### Model Training\n",
    "\n",
    "#### Random Forest Regressor"
   ]
  },
  {
   "cell_type": "code",
   "execution_count": 30,
   "id": "e7d5329e",
   "metadata": {},
   "outputs": [],
   "source": [
    "regressor = RandomForestRegressor()"
   ]
  },
  {
   "cell_type": "code",
   "execution_count": 32,
   "id": "3f280005",
   "metadata": {},
   "outputs": [
    {
     "data": {
      "text/plain": [
       "RandomForestRegressor()"
      ]
     },
     "execution_count": 32,
     "metadata": {},
     "output_type": "execute_result"
    }
   ],
   "source": [
    "# Training the model\n",
    "\n",
    "regressor.fit(X_train,y_train)"
   ]
  },
  {
   "cell_type": "markdown",
   "id": "83a564fb",
   "metadata": {},
   "source": [
    "#### Model Evaluation"
   ]
  },
  {
   "cell_type": "code",
   "execution_count": 33,
   "id": "89916aa1",
   "metadata": {},
   "outputs": [],
   "source": [
    "#prediction on test Data\n",
    "\n",
    "test_data_prediction = regressor.predict(X_test)"
   ]
  },
  {
   "cell_type": "code",
   "execution_count": 34,
   "id": "ec982ee5",
   "metadata": {},
   "outputs": [
    {
     "name": "stdout",
     "output_type": "stream",
     "text": [
      "[168.452399    82.06919974 115.90320001 127.70960065 120.72600085\n",
      " 154.81939863 150.38089807 126.15080015 117.39599864 125.91250095\n",
      " 116.93860073 172.25950056 141.61209909 167.80459824 115.28949995\n",
      " 117.77340044 138.96800325 169.96870064 159.26440244 160.14369971\n",
      " 155.17780007 125.18879994 175.70549951 157.22300385 125.25610043\n",
      "  93.66869984  77.59970028 120.48679992 119.04459912 167.51969984\n",
      "  88.25140037 125.33690002  91.0500004  117.66800019 121.05369952\n",
      " 137.02140099 115.45860094 115.20870058 148.66989947 107.00450107\n",
      " 104.26470235  87.14799796 126.46380033 117.9942999  153.69379887\n",
      " 119.50520013 108.39760028 108.11049816  93.332301   126.9372984\n",
      "  75.00960023 113.77399919 121.52290005 111.3935991  118.89799899\n",
      " 121.06449928 158.89009942 168.18740109 146.94089687  85.86929881\n",
      "  94.34370018  86.78889902  90.5158999  118.93500066 126.39980069\n",
      " 127.49899969 170.30059976 122.24059931 117.37709892  98.38259992\n",
      " 167.88929974 142.85739799 132.27490205 121.17650215 121.60539917\n",
      " 119.81530059 114.74680143 118.36180039 107.04460112 127.96470086\n",
      " 114.25469937 107.54379986 116.76210028 119.70679864  89.09920082\n",
      "  88.31019888 146.21540264 127.1244004  113.68080007 110.08049851\n",
      " 108.25859901  77.17189913 169.90060191 113.97349898 121.68599896\n",
      " 127.89090178 154.92839889  91.6056993  135.95770157 159.39430354\n",
      " 124.98340076 125.6966005  130.68440186 115.02010111 119.65960015\n",
      "  92.1131998  110.14499868 168.92749886 158.02649842 114.09759922\n",
      " 106.72240118  79.60949967 113.42670024 125.78700057 107.03059929\n",
      " 119.20670097 155.57530274 159.57949852 119.90050032 134.18080303\n",
      " 101.28029994 117.61329817 119.22190037 113.05390069 102.72839897\n",
      " 159.62169819  99.31400066 147.63679951 125.66620068 169.90209877\n",
      " 125.6728989  127.35159764 127.52540214 113.79189923 112.32480057\n",
      " 123.599099   102.02949885  89.3289     124.67359976 101.6752997\n",
      " 107.1243991  113.29050076 117.08550087  99.5466     121.52300037\n",
      " 164.02259892  87.20679833 106.52219961 117.28730058 127.80790129\n",
      " 124.23890043  80.80309912 120.38050076 159.51299835  87.88489929\n",
      " 110.26409939 119.07159932 172.72639808 102.87989899 105.89560033\n",
      " 122.59980037 159.37299803  87.31549835  93.43480072 112.74640034\n",
      " 177.39209998 114.17819977 119.21790015  94.98020075 125.41420048\n",
      " 166.23260037 114.8425006  116.92970101  88.4210988  148.66230086\n",
      " 120.38469946  89.62129969 112.60039995 117.32160097 118.80860122\n",
      "  88.18129967  94.20619979 116.98469997 118.61570169 120.3234999\n",
      " 126.7824982  121.87930033 150.15659989 165.99190017 118.5792995\n",
      " 120.2320009  151.04430024 118.1707993  173.0797988  106.14689943\n",
      " 104.84980171 148.87130081 113.99880102 124.82890135 148.59760015\n",
      " 119.60390121 115.29810004 112.75359996 113.30560224 139.92220176\n",
      " 117.75649778 102.97020049 115.8215013  103.63240174  99.29040061\n",
      " 117.50720073  90.83329995  91.70690016 153.48069832 102.74639958\n",
      " 154.5517005  114.27980162 138.29760101  90.0401985  115.49089936\n",
      " 114.42929953 122.93490022 121.78590044 165.20640133  92.9395992\n",
      " 135.33170137 121.31279921 120.8098007  104.5580999  142.55150337\n",
      " 121.70899903 116.61180053 113.53830091 126.86169794 122.50269945\n",
      " 125.73749936 121.21690035  86.83699906 132.71870098 143.8843021\n",
      "  92.60189959 158.82439933 159.85920279 126.16899882 165.35289889\n",
      " 108.96109942 110.17530077 103.65739821  94.45280074 128.18150333\n",
      " 107.09040062 161.46170004 121.48440036 131.93640068 130.72060139\n",
      " 160.13169977  90.13209854 175.00920141 127.33520052 126.81129853\n",
      "  86.59309943 124.59259935 150.45739713  89.71109973 106.81759972\n",
      " 108.89790006  84.12699907 136.03160086 155.14300215 139.90470416\n",
      "  74.39480029 152.07010074 126.35549961 126.7807002  127.49179892\n",
      " 108.51209965 156.46790002 114.61270091 116.7789009  125.12469981\n",
      " 153.7214015  121.34929976 156.41579884  93.05090075 125.6522015\n",
      " 125.62040007  87.76330029  92.2788994  126.24789941 128.13000287\n",
      " 113.0114004  117.69179745 120.9582001  126.95279793 119.93840124\n",
      " 137.43240192  93.90089949 119.9229006  113.2006011   94.36129951\n",
      " 108.8140998   86.86259893 109.11309905  89.76689959  92.3381004\n",
      " 131.52020341 162.32270059  89.27459999 119.57820081 133.53130219\n",
      " 123.77209982 128.27220143 101.89469832  88.96979882 132.39990055\n",
      " 120.3541007  108.49200016 169.21830101 115.30040044  86.60159908\n",
      " 118.92080064  91.03669955 162.01430001 116.58640045 121.49100007\n",
      " 160.1573974  119.99689926 112.47409967 108.35389876 126.70190015\n",
      "  76.43330018 103.0276998  127.93770293 121.83459931  92.60970018\n",
      " 132.41750097 118.10830056 115.68309981 154.6591029  159.99170092\n",
      " 110.25129911 155.03909771 119.34430104 160.56420076 118.65940057\n",
      " 157.3811988  115.05479919 116.03640019 149.03810023 114.80960056\n",
      " 125.51309906 166.37019972 117.59170024 124.96139921 153.24870378\n",
      " 153.53940274 132.11830019 114.76750012 121.17810189 125.17470104\n",
      "  89.82170054 122.92199973 155.01660185 111.73910028 106.58669969\n",
      " 161.84490153 118.74009984 165.62949949 133.95880157 114.81149978\n",
      " 152.8693981  168.54610018 114.46230036 114.13640128 157.63899859\n",
      "  85.41319879 127.08900072 127.80510067 128.85629943 124.30080072\n",
      " 123.73160061  90.67590083 153.79420112  97.15999997 137.52490025\n",
      "  89.12329921 107.54899998 115.0624001  112.55960093 124.5798992\n",
      "  91.33039881 125.18720093 162.26459943 120.11749889 165.04730086\n",
      " 126.81549821 112.35350024 127.54329927  95.16739888  90.88949941\n",
      " 103.2693991  120.81129985  83.05009944 126.4246004  160.14010375\n",
      " 117.40250101 118.49649971 119.83049985 122.82619971 120.09360137\n",
      " 121.48079997 118.14350059 107.10710013 148.34530023 126.30189838\n",
      " 115.78700082  73.92560019 127.8651011  153.98120082 122.17640016\n",
      " 125.5919006   88.98440023 103.47609862 124.51630046 120.33270017\n",
      "  73.40600096 151.71950044 121.24820043 104.72210016  86.2876978\n",
      " 115.09949934 172.13739857 119.84530035 159.18499727 113.12859983\n",
      " 121.30599982 118.79110069  95.96909983 118.81530014 125.89560011\n",
      " 118.46159926  95.92530028 153.67620167 122.12230017 147.47890024\n",
      " 159.37270239 113.98410013 122.53269932 150.93769895 127.14700016\n",
      " 166.09620017 135.69569979 119.88079974 167.62739855 108.43269868\n",
      " 121.6774984  138.76710116 106.78319877]\n"
     ]
    }
   ],
   "source": [
    "print(test_data_prediction)"
   ]
  },
  {
   "cell_type": "code",
   "execution_count": 35,
   "id": "f9bb1c0c",
   "metadata": {},
   "outputs": [
    {
     "name": "stdout",
     "output_type": "stream",
     "text": [
      "R squared error :  0.9890066543667877\n"
     ]
    }
   ],
   "source": [
    "# R squared error\n",
    "\n",
    "error_score = metrics.r2_score(y_test,test_data_prediction)\n",
    "\n",
    "print(\"R squared error : \", error_score)"
   ]
  },
  {
   "cell_type": "markdown",
   "id": "e166b5ce",
   "metadata": {},
   "source": [
    "#### Compare Actual Values and Predicted values  in a Plot"
   ]
  },
  {
   "cell_type": "code",
   "execution_count": 36,
   "id": "cf696875",
   "metadata": {},
   "outputs": [],
   "source": [
    "y_test=list(y_test)\n",
    "\n"
   ]
  },
  {
   "cell_type": "code",
   "execution_count": 37,
   "id": "373f6962",
   "metadata": {},
   "outputs": [
    {
     "data": {
      "image/png": "[encoded data removed]",
      "text/plain": [
       "<Figure size 432x288 with 1 Axes>"
      ]
     },
     "metadata": {
      "needs_background": "light"
     },
     "output_type": "display_data"
    }
   ],
   "source": [
    "plt.plot(y_test,color=\"blue\",label=\"Actual Value\")\n",
    "plt.plot(test_data_prediction, color=\"green\", label=\"Predicted Value\")\n",
    "plt.title(\"Actual Price vs Predicted Price\")\n",
    "plt.xlabel(\"Number of values\")\n",
    "plt.ylabel(\"Gold Price\")\n",
    "plt.legend()\n",
    "plt.show()"
   ]
  },
  {
   "cell_type": "code",
   "execution_count": null,
   "id": "a7f225a4",
   "metadata": {},
   "outputs": [],
   "source": []
  }
 ],
 "metadata": {
  "kernelspec": {
   "display_name": "Python 3 (ipykernel)",
   "language": "python",
   "name": "python3"
  },
  "language_info": {
   "codemirror_mode": {
    "name": "ipython",
    "version": 3
   },
   "file_extension": ".py",
   "mimetype": "text/x-python",
   "name": "python",
   "nbconvert_exporter": "python",
   "pygments_lexer": "ipython3",
   "version": "3.9.7"
  }
 },
 "nbformat": 4,
 "nbformat_minor": 5
}
